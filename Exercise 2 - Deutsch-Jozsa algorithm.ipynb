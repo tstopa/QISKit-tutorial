{
 "cells": [
  {
   "cell_type": "markdown",
   "metadata": {},
   "source": [
    "# 1 Function on one qubit (Deutsch algorithm)\n",
    "More details on implementation of Deutsch-Jozsa algorithm can be found here: https://nbviewer.jupyter.org/github/Qiskit/qiskit-tutorial/blob/master/community/algorithms/deutsch_jozsa.ipynb"
   ]
  },
  {
   "cell_type": "markdown",
   "metadata": {},
   "source": [
    "1.1 Let's create the following circuit for testing Deutsch-Jozsa algorithm using online composer.\n",
    "Between Hadamard gates we place oracle which determines function value.\n",
    "Empty function is a constant function ;) Check what is the result."
   ]
  },
  {
   "cell_type": "markdown",
   "metadata": {},
   "source": [
    "![](img/D_constant.png)"
   ]
  },
  {
   "cell_type": "markdown",
   "metadata": {},
   "source": [
    "1.2 Now let's put some balanced function and check if the algorithm correctly determines this (in one shot or course :)\n",
    "For example:"
   ]
  },
  {
   "cell_type": "markdown",
   "metadata": {},
   "source": [
    "![](img/D_balanced.png)"
   ]
  },
  {
   "cell_type": "markdown",
   "metadata": {},
   "source": [
    "1.3 Which of the 4 possible functions is reflected in example 1.2?"
   ]
  },
  {
   "cell_type": "markdown",
   "metadata": {},
   "source": [
    "# 2 Function on 2 qubits"
   ]
  },
  {
   "cell_type": "markdown",
   "metadata": {},
   "source": [
    "2.1 Since the IBM Q topology does not allow to put CNOT gates betwen any qubits, let's create a custom setup "
   ]
  },
  {
   "cell_type": "markdown",
   "metadata": {},
   "source": [
    "2.2 In graphical composer start new experiment and choose 'Custom Topology'. Choose 3 qubits and 3 classical registers (2 qubits for input and one for output)."
   ]
  },
  {
   "cell_type": "markdown",
   "metadata": {},
   "source": [
    "2.3 Propose an example implementation of the balanced function on 2 qubits. Implement the algorithm and test the results."
   ]
  },
  {
   "cell_type": "markdown",
   "metadata": {},
   "source": [
    "2.4 Note how the complexity of the classical algorithm increases with number of input qubits. With D-J algorithm we need only one algorithm pass regardless of number of input qubits!!!"
   ]
  }
 ],
 "metadata": {
  "kernelspec": {
   "display_name": "Python 3",
   "language": "python",
   "name": "python3"
  },
  "language_info": {
   "codemirror_mode": {
    "name": "ipython",
    "version": 3
   },
   "file_extension": ".py",
   "mimetype": "text/x-python",
   "name": "python",
   "nbconvert_exporter": "python",
   "pygments_lexer": "ipython3",
   "version": "3.7.0"
  }
 },
 "nbformat": 4,
 "nbformat_minor": 2
}
