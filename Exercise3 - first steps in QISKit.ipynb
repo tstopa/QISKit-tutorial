{
 "cells": [
  {
   "cell_type": "markdown",
   "metadata": {},
   "source": [
    "# 1 Explore the available backends\n",
    "Much more examples can be found here: https://qiskit.org/documentation/advanced_use_of_ibm_q_devices.html#advanced-use-of-ibm-q-devices-label"
   ]
  },
  {
   "cell_type": "markdown",
   "metadata": {},
   "source": [
    "Let's use Jupyter notebook in this exercise. From Anaconda prompt go to directry where you'd like to store your files and type 'jupyter notebook'."
   ]
  },
  {
   "cell_type": "markdown",
   "metadata": {},
   "source": [
    "1.1 Provide your token which enables you to use IBM-Q through QISKit"
   ]
  },
  {
   "cell_type": "code",
   "execution_count": 1,
   "metadata": {},
   "outputs": [],
   "source": [
    "from qiskit import IBMQ"
   ]
  },
  {
   "cell_type": "code",
   "execution_count": 2,
   "metadata": {},
   "outputs": [],
   "source": [
    "#Earlier IBMQ.save_account('TOKEN') needs to be run\n",
    "IBMQ.load_accounts()"
   ]
  },
  {
   "cell_type": "markdown",
   "metadata": {},
   "source": [
    "1.2 Let's list all the available backends"
   ]
  },
  {
   "cell_type": "code",
   "execution_count": 3,
   "metadata": {},
   "outputs": [
    {
     "data": {
      "text/plain": [
       "[<IBMQBackend('ibmqx4') from IBMQ()>,\n",
       " <IBMQBackend('ibmqx2') from IBMQ()>,\n",
       " <IBMQBackend('ibmq_16_melbourne') from IBMQ()>]"
      ]
     },
     "execution_count": 3,
     "metadata": {},
     "output_type": "execute_result"
    }
   ],
   "source": [
    "IBMQ.backends(operational=True, simulator=False)"
   ]
  },
  {
   "cell_type": "markdown",
   "metadata": {},
   "source": [
    "1.3 Let's choose one of the backends and check it's properties"
   ]
  },
  {
   "cell_type": "code",
   "execution_count": 4,
   "metadata": {},
   "outputs": [],
   "source": [
    "backend=IBMQ.get_backend('ibmqx4')"
   ]
  },
  {
   "cell_type": "code",
   "execution_count": 5,
   "metadata": {},
   "outputs": [
    {
     "data": {
      "text/plain": [
       "BackendStatus(backend_name='ibmqx4', backend_version='1.0.0', operational=True, pending_jobs=0, status_msg='active')"
      ]
     },
     "execution_count": 5,
     "metadata": {},
     "output_type": "execute_result"
    }
   ],
   "source": [
    "backend.status()"
   ]
  },
  {
   "cell_type": "code",
   "execution_count": 6,
   "metadata": {},
   "outputs": [
    {
     "data": {
      "text/plain": [
       "BackendConfiguration(allow_q_object=True, backend_name='ibmqx4', backend_version='1.0.0', basis_gates=['u1', 'u2', 'u3', 'cx', 'id'], conditional=False, coupling_map=[[1, 0], [2, 0], [2, 1], [3, 2], [3, 4], [4, 2]], credits_required=True, description='5 qubit device', gates=[GateConfig(coupling_map=[[0], [1], [2], [3], [4]], name='id', parameters=[], qasm_def='gate id q { U(0,0,0) q; }'), GateConfig(coupling_map=[[0], [1], [2], [3], [4]], name='u1', parameters=['lambda'], qasm_def='gate u1(lambda) q { U(0,0,lambda) q; }'), GateConfig(coupling_map=[[0], [1], [2], [3], [4]], name='u2', parameters=['phi', 'lambda'], qasm_def='gate u2(phi,lambda) q { U(pi/2,phi,lambda) q; }'), GateConfig(coupling_map=[[0], [1], [2], [3], [4]], name='u3', parameters=['theta', 'phi', 'lambda'], qasm_def='u3(theta,phi,lambda) q { U(theta,phi,lambda) q; }'), GateConfig(coupling_map=[[1, 0], [2, 0], [2, 1], [3, 2], [3, 4], [4, 2]], name='cx', parameters=[], qasm_def='gate cx q1,q2 { CX q1,q2; }')], local=False, max_experiments=75, max_shots=8192, memory=True, n_qubits=5, n_registers=1, online_date=datetime.datetime(2018, 11, 6, 5, 0, tzinfo=tzutc()), open_pulse=False, sample_name='raven', simulator=False, url='None')"
      ]
     },
     "execution_count": 6,
     "metadata": {},
     "output_type": "execute_result"
    }
   ],
   "source": [
    "backend.configuration()"
   ]
  },
  {
   "cell_type": "code",
   "execution_count": 7,
   "metadata": {},
   "outputs": [
    {
     "data": {
      "text/plain": [
       "BackendProperties(backend_name='ibmqx4', backend_version='1.0.0', gates=[Gate(gate='u1', parameters=[Nduv(date=datetime.datetime(2019, 3, 9, 10, 56, 50, tzinfo=tzutc()), name='gate_error', unit='', value=0.0)], qubits=[0]), Gate(gate='u2', parameters=[Nduv(date=datetime.datetime(2019, 3, 9, 10, 56, 50, tzinfo=tzutc()), name='gate_error', unit='', value=0.0006009179709377532)], qubits=[0]), Gate(gate='u3', parameters=[Nduv(date=datetime.datetime(2019, 3, 9, 10, 56, 50, tzinfo=tzutc()), name='gate_error', unit='', value=0.0012018359418755065)], qubits=[0]), Gate(gate='u1', parameters=[Nduv(date=datetime.datetime(2019, 3, 9, 10, 56, 50, tzinfo=tzutc()), name='gate_error', unit='', value=0.0)], qubits=[1]), Gate(gate='u2', parameters=[Nduv(date=datetime.datetime(2019, 3, 9, 10, 56, 50, tzinfo=tzutc()), name='gate_error', unit='', value=0.000858490762927322)], qubits=[1]), Gate(gate='u3', parameters=[Nduv(date=datetime.datetime(2019, 3, 9, 10, 56, 50, tzinfo=tzutc()), name='gate_error', unit='', value=0.001716981525854644)], qubits=[1]), Gate(gate='u1', parameters=[Nduv(date=datetime.datetime(2019, 3, 9, 10, 56, 50, tzinfo=tzutc()), name='gate_error', unit='', value=0.0)], qubits=[2]), Gate(gate='u2', parameters=[Nduv(date=datetime.datetime(2019, 3, 9, 10, 56, 50, tzinfo=tzutc()), name='gate_error', unit='', value=0.0009443532335046134)], qubits=[2]), Gate(gate='u3', parameters=[Nduv(date=datetime.datetime(2019, 3, 9, 10, 56, 50, tzinfo=tzutc()), name='gate_error', unit='', value=0.0018887064670092268)], qubits=[2]), Gate(gate='u1', parameters=[Nduv(date=datetime.datetime(2019, 3, 9, 10, 56, 50, tzinfo=tzutc()), name='gate_error', unit='', value=0.0)], qubits=[3]), Gate(gate='u2', parameters=[Nduv(date=datetime.datetime(2019, 3, 9, 10, 56, 50, tzinfo=tzutc()), name='gate_error', unit='', value=0.002490295066994608)], qubits=[3]), Gate(gate='u3', parameters=[Nduv(date=datetime.datetime(2019, 3, 9, 10, 56, 50, tzinfo=tzutc()), name='gate_error', unit='', value=0.004980590133989216)], qubits=[3]), Gate(gate='u1', parameters=[Nduv(date=datetime.datetime(2019, 3, 9, 10, 56, 50, tzinfo=tzutc()), name='gate_error', unit='', value=0.0)], qubits=[4]), Gate(gate='u2', parameters=[Nduv(date=datetime.datetime(2019, 3, 9, 10, 56, 50, tzinfo=tzutc()), name='gate_error', unit='', value=0.0021466840188233416)], qubits=[4]), Gate(gate='u3', parameters=[Nduv(date=datetime.datetime(2019, 3, 9, 10, 56, 50, tzinfo=tzutc()), name='gate_error', unit='', value=0.004293368037646683)], qubits=[4]), Gate(gate='cx', name='CX1_0', parameters=[Nduv(date=datetime.datetime(2019, 3, 9, 2, 27, 29, tzinfo=tzutc()), name='gate_error', unit='', value=0.028520824496759745)], qubits=[1, 0]), Gate(gate='cx', name='CX2_0', parameters=[Nduv(date=datetime.datetime(2019, 3, 9, 2, 33, 6, tzinfo=tzutc()), name='gate_error', unit='', value=0.02434398686300787)], qubits=[2, 0]), Gate(gate='cx', name='CX2_1', parameters=[Nduv(date=datetime.datetime(2019, 3, 9, 2, 38, 43, tzinfo=tzutc()), name='gate_error', unit='', value=0.037131557236418616)], qubits=[2, 1]), Gate(gate='cx', name='CX3_2', parameters=[Nduv(date=datetime.datetime(2019, 3, 9, 2, 44, 15, tzinfo=tzutc()), name='gate_error', unit='', value=0.08849061097066424)], qubits=[3, 2]), Gate(gate='cx', name='CX3_4', parameters=[Nduv(date=datetime.datetime(2019, 3, 9, 2, 49, 36, tzinfo=tzutc()), name='gate_error', unit='', value=0.059160172469882116)], qubits=[3, 4]), Gate(gate='cx', name='CX4_2', parameters=[Nduv(date=datetime.datetime(2019, 3, 9, 2, 54, 55, tzinfo=tzutc()), name='gate_error', unit='', value=0.05250579070708175)], qubits=[4, 2])], general=[], last_update_date=datetime.datetime(2019, 3, 9, 2, 54, 55, tzinfo=tzutc()), qubits=[[Nduv(date=datetime.datetime(2019, 3, 9, 2, 15, 29, tzinfo=tzutc()), name='T1', unit='µs', value=48.90831847238598), Nduv(date=datetime.datetime(2019, 3, 9, 2, 16, 15, tzinfo=tzutc()), name='T2', unit='µs', value=40.40163301757168), Nduv(date=datetime.datetime(2019, 3, 9, 2, 54, 55, tzinfo=tzutc()), name='frequency', unit='GHz', value=5.2498899893720585), Nduv(date=datetime.datetime(2019, 3, 9, 2, 15, 11, tzinfo=tzutc()), name='readout_error', unit='', value=0.05774999999999997)], [Nduv(date=datetime.datetime(2019, 3, 9, 2, 15, 29, tzinfo=tzutc()), name='T1', unit='µs', value=37.65220675334591), Nduv(date=datetime.datetime(2019, 3, 9, 2, 16, 58, tzinfo=tzutc()), name='T2', unit='µs', value=18.735189433621617), Nduv(date=datetime.datetime(2019, 3, 9, 2, 54, 55, tzinfo=tzutc()), name='frequency', unit='GHz', value=5.295775227354375), Nduv(date=datetime.datetime(2019, 3, 9, 2, 15, 11, tzinfo=tzutc()), name='readout_error', unit='', value=0.25150000000000006)], [Nduv(date=datetime.datetime(2019, 3, 9, 2, 15, 29, tzinfo=tzutc()), name='T1', unit='µs', value=41.86311917048964), Nduv(date=datetime.datetime(2019, 3, 9, 2, 17, 40, tzinfo=tzutc()), name='T2', unit='µs', value=32.01631015390347), Nduv(date=datetime.datetime(2019, 3, 9, 2, 54, 55, tzinfo=tzutc()), name='frequency', unit='GHz', value=5.353330572430224), Nduv(date=datetime.datetime(2019, 3, 9, 2, 15, 11, tzinfo=tzutc()), name='readout_error', unit='', value=0.03275000000000006)], [Nduv(date=datetime.datetime(2019, 3, 9, 2, 15, 29, tzinfo=tzutc()), name='T1', unit='µs', value=36.265848999774754), Nduv(date=datetime.datetime(2019, 3, 9, 2, 16, 58, tzinfo=tzutc()), name='T2', unit='µs', value=14.225035185320333), Nduv(date=datetime.datetime(2019, 3, 9, 2, 54, 55, tzinfo=tzutc()), name='frequency', unit='GHz', value=5.434846181841023), Nduv(date=datetime.datetime(2019, 3, 9, 2, 15, 11, tzinfo=tzutc()), name='readout_error', unit='', value=0.02774999999999994)], [Nduv(date=datetime.datetime(2019, 3, 9, 2, 15, 29, tzinfo=tzutc()), name='T1', unit='µs', value=50.6223607705839), Nduv(date=datetime.datetime(2019, 3, 9, 2, 16, 15, tzinfo=tzutc()), name='T2', unit='µs', value=10.858662993007714), Nduv(date=datetime.datetime(2019, 3, 9, 2, 54, 55, tzinfo=tzutc()), name='frequency', unit='GHz', value=5.175824566719073), Nduv(date=datetime.datetime(2019, 3, 9, 2, 15, 11, tzinfo=tzutc()), name='readout_error', unit='', value=0.05600000000000005)]])"
      ]
     },
     "execution_count": 7,
     "metadata": {},
     "output_type": "execute_result"
    }
   ],
   "source": [
    "backend.properties()"
   ]
  },
  {
   "cell_type": "markdown",
   "metadata": {},
   "source": [
    "# 2 Construct Bell state using QISKit"
   ]
  },
  {
   "cell_type": "code",
   "execution_count": 8,
   "metadata": {},
   "outputs": [],
   "source": [
    "from qiskit import QuantumCircuit, ClassicalRegister, QuantumRegister\n",
    "from qiskit import execute"
   ]
  },
  {
   "cell_type": "markdown",
   "metadata": {},
   "source": [
    "We need only 2 qubits, so let's initialize them:"
   ]
  },
  {
   "cell_type": "code",
   "execution_count": 9,
   "metadata": {},
   "outputs": [],
   "source": [
    "qr = QuantumRegister(2)\n",
    "cr = ClassicalRegister(2)\n",
    "circuit = QuantumCircuit(qr, cr)"
   ]
  },
  {
   "cell_type": "markdown",
   "metadata": {},
   "source": [
    "Now let's define what the circuit should look like:"
   ]
  },
  {
   "cell_type": "code",
   "execution_count": 10,
   "metadata": {},
   "outputs": [
    {
     "data": {
      "text/plain": [
       "<qiskit.circuit.instructionset.InstructionSet at 0x283c20e94e0>"
      ]
     },
     "execution_count": 10,
     "metadata": {},
     "output_type": "execute_result"
    }
   ],
   "source": [
    "circuit.h(qr[1])\n",
    "circuit.cx(qr[1], qr[0])\n",
    "circuit.measure(qr, cr)"
   ]
  },
  {
   "cell_type": "markdown",
   "metadata": {},
   "source": [
    "# 3 Run the algorithm on real quanum computer"
   ]
  },
  {
   "cell_type": "code",
   "execution_count": 11,
   "metadata": {
    "scrolled": false
   },
   "outputs": [],
   "source": [
    "job = execute(circuit, backend=backend, shots=1024, max_credits=3)"
   ]
  },
  {
   "cell_type": "code",
   "execution_count": 12,
   "metadata": {},
   "outputs": [
    {
     "data": {
      "text/plain": [
       "<JobStatus.INITIALIZING: 'job is being initialized'>"
      ]
     },
     "execution_count": 12,
     "metadata": {},
     "output_type": "execute_result"
    }
   ],
   "source": [
    "job.status()"
   ]
  },
  {
   "cell_type": "code",
   "execution_count": 13,
   "metadata": {},
   "outputs": [],
   "source": [
    "job.queue_position()"
   ]
  },
  {
   "cell_type": "code",
   "execution_count": 14,
   "metadata": {},
   "outputs": [
    {
     "data": {
      "text/plain": [
       "'5c842b867df9cd00528a991e'"
      ]
     },
     "execution_count": 14,
     "metadata": {},
     "output_type": "execute_result"
    }
   ],
   "source": [
    "job.job_id()"
   ]
  },
  {
   "cell_type": "markdown",
   "metadata": {},
   "source": [
    "# 4 Getting the results"
   ]
  },
  {
   "cell_type": "code",
   "execution_count": 15,
   "metadata": {},
   "outputs": [],
   "source": [
    "result = job.result()"
   ]
  },
  {
   "cell_type": "code",
   "execution_count": 16,
   "metadata": {},
   "outputs": [],
   "source": [
    "counts=result.get_counts(circuit)"
   ]
  },
  {
   "cell_type": "code",
   "execution_count": 17,
   "metadata": {},
   "outputs": [
    {
     "name": "stdout",
     "output_type": "stream",
     "text": [
      "{'10': 78, '11': 417, '01': 98, '00': 431}\n"
     ]
    }
   ],
   "source": [
    "print(counts)"
   ]
  },
  {
   "cell_type": "code",
   "execution_count": 20,
   "metadata": {},
   "outputs": [
    {
     "data": {
      "image/png": "[encoded data removed]",
      "text/plain": [
       "<Figure size 504x360 with 1 Axes>"
      ]
     },
     "execution_count": 20,
     "metadata": {},
     "output_type": "execute_result"
    }
   ],
   "source": [
    "from qiskit.tools.visualization import plot_histogram\n",
    "%matplotlib inline\n",
    "plot_histogram(counts)"
   ]
  }
 ],
 "metadata": {
  "kernelspec": {
   "display_name": "Python 3",
   "language": "python",
   "name": "python3"
  },
  "language_info": {
   "codemirror_mode": {
    "name": "ipython",
    "version": 3
   },
   "file_extension": ".py",
   "mimetype": "text/x-python",
   "name": "python",
   "nbconvert_exporter": "python",
   "pygments_lexer": "ipython3",
   "version": "3.7.0"
  }
 },
 "nbformat": 4,
 "nbformat_minor": 2
}
